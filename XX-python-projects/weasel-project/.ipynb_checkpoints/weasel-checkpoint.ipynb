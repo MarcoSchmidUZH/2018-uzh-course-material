{
 "cells": [
  {
   "cell_type": "markdown",
   "metadata": {},
   "source": [
    "# INFINITE MONKEYS, SHAKESPEARE, AND RICHARD DAWKINS\n",
    "\n",
    "\n",
    "> I don't know who it was first pointed out that, given enough time, a monkey bashing away at random on a typewriter could produce all the works of Shakespeare. The operative phrase is, of course, given enough time. Let us limit the task facing our monkey somewhat. Suppose that he has to produce, not the complete works of Shakespeare but just the short sentence 'Methinks it is like a weasel', and we shall make it relatively easy by giving him a typewriter with a restricted keyboard, one with just the 26 (capital) letters, and a space bar. How long will he take to write this one little sentence?\n",
    "> - *Richard Dawking in The Blind Watchmaker*\n",
    "\n",
    "So, how long would it take him? Let's find out!\n",
    "\n",
    "Define a recursive function `monkey()` that\n",
    "1. generates a random string `s` of uppercase letters and spaces with length 28 using the random_string() function\n",
    "2. prints the iteration `i`and the string `s`, e.g.: `\"Generation [i]: [s]\"`\n",
    "3. tests whether `s`is the target sentence `W` and, if true, prints: `\"Evolution ended after [i] generations.\"`, and, if false, increases the counter `i` and starts the monkey function anew.\n",
    "\n",
    "Hint: `string.ascii_uppercase` from the `string` module and `random.choice()` from the `random` module can make your life easier!"
   ]
  },
  {
   "cell_type": "code",
   "execution_count": null,
   "metadata": {
    "collapsed": true
   },
   "outputs": [],
   "source": [
    "import random\n",
    "import string\n",
    "\n",
    "W = 'METHINKS IT IS LIKE A WEASEL'\n",
    "\n",
    "def random_string():\n",
    "    # ---\n",
    "    # add your code here\n",
    "    \n",
    "\n",
    "    # ---\n",
    "    return s\n",
    "    \n",
    "def monkey(i = 0):\n",
    "    # ---\n",
    "    # add your code here\n",
    "\n",
    "    \n",
    "    # ---\n",
    "    return "
   ]
  },
  {
   "cell_type": "markdown",
   "metadata": {},
   "source": [
    "Let's see how long it takes:"
   ]
  },
  {
   "cell_type": "code",
   "execution_count": null,
   "metadata": {},
   "outputs": [],
   "source": [
    "if __name__ == \"__main__\":\n",
    "    monkey()"
   ]
  },
  {
   "cell_type": "markdown",
   "metadata": {},
   "source": [
    "That ain't good... Not only are we dangerously close to a stack overflow, the thing looks nothing like a weasel! \n",
    "\n",
    "Hm, maybe we should do a quick calculation before embarking on our coding spree. We have 26 letters plus the space character and we pick 28 at random (with replacement) to form our string. That's 27<sup>28</sup> combinations, around 1.2 * 10^40. Seems like a lot! The [fastest computer on earth](https://en.wikipedia.org/wiki/Summit_(supercomputer)) is capable of around 2 * 10<sup>17</sup> FLOPS. Even if we (very, very generously) assume that one iteration needs just one FLOP, it would on average take 10<sup>15</sup> years to get the Weasel. [It unclear if our universe will still be around by that time...](https://en.wikipedia.org/wiki/Ultimate_fate_of_the_universe#Theories_about_the_end_of_the_universe)\n",
    "\n",
    "Let's ask Dawkins how to deal with this mess!\n",
    "\n",
    ">We again use our computer monkey, but with a crucial difference in its program. It again begins by choosing a random sequence of 28 letters, just as before ... it duplicates it repeatedly, but with a certain chance of random error – 'mutation' – in the copying. The computer examines the mutant nonsense phrases, the 'progeny' of the original phrase, and chooses the one which, however slightly, most resembles the target phrase, METHINKS IT IS LIKE A WEASEL.\n",
    "> - *Richard Dawking in The Blind Watchmaker*\n",
    "\n",
    "\n",
    "Let's assume some parameters for our implementation. Define a recursive function `evolve()` that takes a string generates `s` of uppercase letters and spaces with length 28 and\n",
    "1. prints the iteration `i`and the string `s`, e.g.: `\"Generation [i]: [s]\"`\n",
    "2. generates 100 (`N`) mutants `m` such that each character is replaced by a new random character with probability 5% (the mutation rate `MR`).\n",
    "3. Scores each of the mutants with a scoring rule that counts the number of characters that are correct (and in the right place) and then selects the mutant with the highest score.\n",
    "4. tests whether the best string is the target sentence `W` and, if true, prints: `\"Evolution ended after [i] generations.\"`, and, if false, increases the counter `i` and starts the evolve function anew, this time with the best string as argument `s`.\n",
    "\n",
    "Hint: Consider spliting the function in parts by defining a `mutant()` function that mutates a string, a `score()` function that returns the score of a string, and a `step()` function that does combines the functions into one  evolutionary step: generate mutants, score them, and return the one with the highest score. It helps you to think clearly about the process and it's also good programming practice!"
   ]
  },
  {
   "cell_type": "code",
   "execution_count": null,
   "metadata": {
    "collapsed": true
   },
   "outputs": [],
   "source": [
    "import random\n",
    "import string\n",
    "\n",
    "W = 'METHINKS IT IS LIKE A WEASEL'\n",
    "MR = 0.05\n",
    "N = 100\n",
    "\n",
    "# ---\n",
    "# add your code here\n",
    "\n",
    "import numpy as np\n",
    "\n",
    "CHARS = ''.join(set(string.ascii_uppercase + ' '))\n",
    "\n",
    "def score(s):\n",
    "    return sum(1 if s[x]==W[x] else 0 for x in range(len(s)))\n",
    "\n",
    "def mutant(s):\n",
    "    m = np.random.binomial(1,MR,len(W))\n",
    "    return ''.join([s[x] if m[x]==0 else random.choice(CHARS) for x in range(len(s))])\n",
    "\n",
    "def step(s):\n",
    "    m = [mutant(s) for x in range(N)]\n",
    "    return m[np.argmax([score(m[x]) for x in range(N)])]  \n",
    "\n",
    "def evolve(s, i = 0):\n",
    "    print('Generation {}: {}.'.format(i, s))\n",
    "    if s == W:\n",
    "        print('Evolution ended after {} generations.'.format(i))\n",
    "    else:\n",
    "        i += 1\n",
    "        evolve(step(s), i = i)\n",
    "    return\n",
    "# ---"
   ]
  },
  {
   "cell_type": "markdown",
   "metadata": {},
   "source": [
    "Let's take a random starting sequence and see whether we can get a weasel before the end of all time:"
   ]
  },
  {
   "cell_type": "code",
   "execution_count": null,
   "metadata": {},
   "outputs": [],
   "source": [
    "if __name__ == \"__main__\":\n",
    "    CHARS = ''.join(set(string.ascii_uppercase + ' '))\n",
    "    start = ''.join(random.choice(CHARS) for _ in range(len(W)))\n",
    "    evolve(start)"
   ]
  }
 ],
 "metadata": {
  "kernelspec": {
   "display_name": "Python 3",
   "language": "python",
   "name": "python3"
  },
  "language_info": {
   "codemirror_mode": {
    "name": "ipython",
    "version": 3
   },
   "file_extension": ".py",
   "mimetype": "text/x-python",
   "name": "python",
   "nbconvert_exporter": "python",
   "pygments_lexer": "ipython3",
   "version": "3.6.3"
  }
 },
 "nbformat": 4,
 "nbformat_minor": 2
}
