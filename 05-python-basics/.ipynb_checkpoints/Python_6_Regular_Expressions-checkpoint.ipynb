{
 "cells": [
  {
   "cell_type": "markdown",
   "metadata": {},
   "source": [
    "# String nightmares: A brief tour into the world of regular expressions"
   ]
  },
  {
   "cell_type": "markdown",
   "metadata": {
    "collapsed": true
   },
   "source": [
    "So, we have arrived at the lowpoint of the Python sessions, namely string matching and regular expressions. This is dangerous and frustrating territory since regular expressions are almost like a language on their own. Therefore, I will not even try be comprehensive here. Instead, we will play around with the vocabulary a little bit so that you can get a feel of when regular expressions are helpful and what you can do with them. "
   ]
  },
  {
   "cell_type": "markdown",
   "metadata": {},
   "source": [
    "## 1 Principle functions for matching"
   ]
  },
  {
   "cell_type": "markdown",
   "metadata": {},
   "source": [
    "We have already worked with some string methods and we now turn to the topic of matching strings with regular expressions. Regular expressions define a string pattern that would like to match, given a specific source string. Before we can start properly, we need a string to work with. This time we take something more famous than a lowly xkcd poem. "
   ]
  },
  {
   "cell_type": "code",
   "execution_count": null,
   "metadata": {
    "collapsed": true
   },
   "outputs": [],
   "source": [
    "alice = '''If I had a world of my own, everything would be nonsense. \n",
    "        Nothing would be what it is, because everything would be what it isn't. \n",
    "        And contrary wise, what is, it wouldn't be. \n",
    "        And what it wouldn't be, it would. You see?'''"
   ]
  },
  {
   "cell_type": "markdown",
   "metadata": {},
   "source": [
    "### 1.1 Match at the beginning of a string with `match`"
   ]
  },
  {
   "cell_type": "markdown",
   "metadata": {},
   "source": [
    "The easiest method for string matching is the `match` function from the `re` module which we will import now. "
   ]
  },
  {
   "cell_type": "code",
   "execution_count": null,
   "metadata": {
    "collapsed": true
   },
   "outputs": [],
   "source": [
    "import re"
   ]
  },
  {
   "cell_type": "markdown",
   "metadata": {},
   "source": [
    "It checks whether a string __starts__ with a specific pattern. In this case our pattern will just be `If` and the string `alice` will be our source. "
   ]
  },
  {
   "cell_type": "code",
   "execution_count": null,
   "metadata": {
    "collapsed": true
   },
   "outputs": [],
   "source": [
    "match_result_1 = re.match('If', alice)"
   ]
  },
  {
   "cell_type": "markdown",
   "metadata": {},
   "source": [
    "In this case we have passed the pattern `If` directly as an argument. If we work on more complex tasks, we can also first compile a pattern. The following code does the same thing as the one above. "
   ]
  },
  {
   "cell_type": "code",
   "execution_count": null,
   "metadata": {
    "collapsed": true
   },
   "outputs": [],
   "source": [
    "my_pattern = re.compile('If') \n",
    "match_result_2 = my_pattern.match(alice)"
   ]
  },
  {
   "cell_type": "markdown",
   "metadata": {},
   "source": [
    "\n",
    "So far, it might not be obvious what the difference between strings and regular expressions is but we will come to that soon. Bear with me for the moment, we come to that in the next section. First we will take a look at some other functions which are useful. "
   ]
  },
  {
   "cell_type": "markdown",
   "metadata": {},
   "source": [
    "### 1.2 Match everywhere with `search` "
   ]
  },
  {
   "cell_type": "code",
   "execution_count": null,
   "metadata": {
    "collapsed": true
   },
   "outputs": [],
   "source": [
    "search_result_1 = re.search('world', alice)"
   ]
  },
  {
   "cell_type": "markdown",
   "metadata": {},
   "source": [
    "The `search` function returns the first match in a string."
   ]
  },
  {
   "cell_type": "markdown",
   "metadata": {},
   "source": [
    "### A brief detour: match objects"
   ]
  },
  {
   "cell_type": "markdown",
   "metadata": {},
   "source": [
    "You might have noticed that we have not looked at the results returned by the `match` and `search` functions. This is because they return strange objects. Let's take a look. "
   ]
  },
  {
   "cell_type": "code",
   "execution_count": null,
   "metadata": {},
   "outputs": [],
   "source": [
    "print(match_result_1)"
   ]
  },
  {
   "cell_type": "code",
   "execution_count": null,
   "metadata": {},
   "outputs": [],
   "source": [
    "print(search_result_1)"
   ]
  },
  {
   "cell_type": "markdown",
   "metadata": {},
   "source": [
    "As you can see the function return match objects, which give you the offset ranges of the matches found in the source string as well as the match returned. You can access them separately. "
   ]
  },
  {
   "cell_type": "code",
   "execution_count": null,
   "metadata": {},
   "outputs": [],
   "source": [
    "search_result_1.span()"
   ]
  },
  {
   "cell_type": "code",
   "execution_count": null,
   "metadata": {},
   "outputs": [],
   "source": [
    "alice[11:17]"
   ]
  },
  {
   "cell_type": "code",
   "execution_count": null,
   "metadata": {},
   "outputs": [],
   "source": [
    "search_result_1.group()"
   ]
  },
  {
   "cell_type": "markdown",
   "metadata": {},
   "source": [
    "Now, what is returned if no match is found? Let's find out. "
   ]
  },
  {
   "cell_type": "code",
   "execution_count": null,
   "metadata": {},
   "outputs": [],
   "source": [
    "search_result_2 = re.search('supercalifragilistic', alice)\n",
    "print(search_result_2)"
   ]
  },
  {
   "cell_type": "markdown",
   "metadata": {},
   "source": [
    "The function returned nothing which makes sense because there is no match. We still have a problem though when we use the `group` method. "
   ]
  },
  {
   "cell_type": "code",
   "execution_count": null,
   "metadata": {},
   "outputs": [],
   "source": [
    "search_result_2.group()"
   ]
  },
  {
   "cell_type": "markdown",
   "metadata": {},
   "source": [
    "How can you prevent Python from throwing an exception each time when no match is found and you use the `group function`. You can use the property that `None` is evaluated as `False` when used as a boolean and create a conditional. "
   ]
  },
  {
   "cell_type": "code",
   "execution_count": null,
   "metadata": {
    "collapsed": true
   },
   "outputs": [],
   "source": [
    "if search_result_2: \n",
    "    print(search_result_2.group())"
   ]
  },
  {
   "cell_type": "code",
   "execution_count": null,
   "metadata": {},
   "outputs": [],
   "source": [
    "if search_result_1: \n",
    "    print(search_result_1.group())"
   ]
  },
  {
   "cell_type": "markdown",
   "metadata": {},
   "source": [
    "OK, now that we have settled this topic we go back to our matching functions. "
   ]
  },
  {
   "cell_type": "markdown",
   "metadata": {},
   "source": [
    "### 1.3 List of matches with `findall`"
   ]
  },
  {
   "cell_type": "markdown",
   "metadata": {},
   "source": [
    "The `findall` function returns a list of all non-overlapping matches. "
   ]
  },
  {
   "cell_type": "code",
   "execution_count": null,
   "metadata": {},
   "outputs": [],
   "source": [
    "findall_result_1 = re.findall('it', alice)\n",
    "print(findall_result_1)"
   ]
  },
  {
   "cell_type": "markdown",
   "metadata": {},
   "source": [
    "If there is no match, an empty list is returned. "
   ]
  },
  {
   "cell_type": "code",
   "execution_count": null,
   "metadata": {},
   "outputs": [],
   "source": [
    "findall_result_2 = re.findall('frägellägel', alice)\n",
    "print(findall_result_2)"
   ]
  },
  {
   "cell_type": "markdown",
   "metadata": {},
   "source": [
    "### 1.4 Split at pattern with `split`"
   ]
  },
  {
   "cell_type": "markdown",
   "metadata": {},
   "source": [
    "The `split` function allows you to split a source string at the matches and returns a list of the resulting pieces. "
   ]
  },
  {
   "cell_type": "code",
   "execution_count": null,
   "metadata": {},
   "outputs": [],
   "source": [
    "split_result_1 = re.split('it', alice)\n",
    "split_result_1"
   ]
  },
  {
   "cell_type": "markdown",
   "metadata": {},
   "source": [
    "If no match is found, a list with one element, the original source string, will be returned. "
   ]
  },
  {
   "cell_type": "code",
   "execution_count": null,
   "metadata": {},
   "outputs": [],
   "source": [
    "split_result_2 = re.split('smoogle', alice)\n",
    "split_result_2"
   ]
  },
  {
   "cell_type": "markdown",
   "metadata": {},
   "source": [
    "### 1.5 Replace matches in a string with `sub`"
   ]
  },
  {
   "cell_type": "markdown",
   "metadata": {},
   "source": [
    "Sometimes, you might want to replace all substrings with match a certain pattern with another string. You can do this with the `sub` function. It returns a new string with the requested replacements. "
   ]
  },
  {
   "cell_type": "code",
   "execution_count": null,
   "metadata": {},
   "outputs": [],
   "source": [
    "re.sub('i', 'ü', alice)"
   ]
  },
  {
   "cell_type": "markdown",
   "metadata": {},
   "source": [
    "These are all already neat functions, but they become truly powerful when we combine them with regular expressions, which we will turn to next. "
   ]
  },
  {
   "cell_type": "markdown",
   "metadata": {},
   "source": [
    "## 2 Creating patterns"
   ]
  },
  {
   "cell_type": "markdown",
   "metadata": {},
   "source": [
    "### 2.1 The basics"
   ]
  },
  {
   "cell_type": "markdown",
   "metadata": {},
   "source": [
    "So far, this all seems not to be too intimidating. But we are also just starting out. Note that we cannot only pass strings but also more complex patterns to the functions above. Let's say we want to find all substrings consisting of a `w` and any other character. We can do this by adding a `'.'`."
   ]
  },
  {
   "cell_type": "code",
   "execution_count": null,
   "metadata": {},
   "outputs": [],
   "source": [
    "re.findall('w.', alice)"
   ]
  },
  {
   "cell_type": "markdown",
   "metadata": {},
   "source": [
    "Cool, right? We have a bunch of those basic operators: \n",
    "+ `.`: any character except \\n,\n",
    "+ `*`: preceding character can appear a number of times (including zero times),\n",
    "+ `?`: preceding character is optional."
   ]
  },
  {
   "cell_type": "markdown",
   "metadata": {},
   "source": [
    "In the following, we do some examples."
   ]
  },
  {
   "cell_type": "code",
   "execution_count": null,
   "metadata": {},
   "outputs": [],
   "source": [
    "# an arbitary character + 'u'\n",
    "source = \"Humpty Dumpty\"\n",
    "re.findall('.u', source)"
   ]
  },
  {
   "cell_type": "code",
   "execution_count": null,
   "metadata": {},
   "outputs": [],
   "source": [
    "# a 'u' optionally preceded by an 'H'\n",
    "re.findall('H?u', source)"
   ]
  },
  {
   "cell_type": "code",
   "execution_count": null,
   "metadata": {},
   "outputs": [],
   "source": [
    "# sequences of one or more 'e'\n",
    "source = 'Tweedle Dee and Tweedle Dum'\n",
    "re.findall('ee*', source)"
   ]
  },
  {
   "cell_type": "markdown",
   "metadata": {},
   "source": [
    "You can already see, how powerful and horribly ugly these things can become. Let's take it up a notch. "
   ]
  },
  {
   "cell_type": "markdown",
   "metadata": {},
   "source": [
    "### 2.2 Special characters"
   ]
  },
  {
   "cell_type": "markdown",
   "metadata": {},
   "source": [
    "Apart from the usual characters, you can use a number of special characters:\n",
    "+ `\\d`: a single digit \n",
    "+ `\\D`: a single non-digit\n",
    "+ `\\w`: an alphanumeric character (digits, letters or underscore)\n",
    "+ `\\W`: a non-alphanumeric character\n",
    "+ `\\s`: a whitespace character\n",
    "+ `\\S`: a non-whitespace character\n",
    "+ `\\b`: a word boundary\n",
    "+ `\\B`: a non-word boundary"
   ]
  },
  {
   "cell_type": "markdown",
   "metadata": {},
   "source": [
    "I know, whoever came up with should burn in a special kind of hell. Still, let's try to work with them. I am afraid, we cannot use Alice here, since she's not complicated enough. You might be happy though!"
   ]
  },
  {
   "cell_type": "code",
   "execution_count": null,
   "metadata": {},
   "outputs": [],
   "source": [
    "# split the address into its parts\n",
    "address = 'Blümlisalpstrasse 10, 8006 Zürich'\n",
    "# postal code\n",
    "print(re.findall('\\d\\d\\d\\d', address))\n",
    "# street and house number\n",
    "print(re.findall('\\w\\w*\\s\\d\\d*', address))\n",
    "# city\n",
    "print(re.findall('\\s\\D\\D*', address))"
   ]
  },
  {
   "cell_type": "markdown",
   "metadata": {},
   "source": [
    "Sometimes we want to match on something but not have the whole match but a substring. For, example we might want my house number without the comma. Using parentheses we can organize regular expressions in capturing groups. "
   ]
  },
  {
   "cell_type": "code",
   "execution_count": null,
   "metadata": {
    "collapsed": true
   },
   "outputs": [],
   "source": [
    "my_match = re.search('(\\d\\d),', address)"
   ]
  },
  {
   "cell_type": "code",
   "execution_count": null,
   "metadata": {},
   "outputs": [],
   "source": [
    "print(my_match.group(0))"
   ]
  },
  {
   "cell_type": "markdown",
   "metadata": {},
   "source": [
    "Calling the group element with the 0 gives you the whole match sequence. Calling it with a 1 gives you the match we are interested in. "
   ]
  },
  {
   "cell_type": "code",
   "execution_count": null,
   "metadata": {},
   "outputs": [],
   "source": [
    "print(my_match.group(1))"
   ]
  },
  {
   "cell_type": "markdown",
   "metadata": {},
   "source": [
    "### 2.3 Pattern specifiers"
   ]
  },
  {
   "cell_type": "markdown",
   "metadata": {},
   "source": [
    "Admittedly, these patterns are not super-elegant yet. We need more specifiers: \n",
    "+ `(expr)`: `expr`\n",
    "+ `expr1|expr2`: `expr1` or `expr2`\n",
    "+ `^`: start of source string\n",
    "+ `$`: end of source string\n",
    "+ `expr?`: zero or one of `expr` \n",
    "+ `expr*`: zero or more of `expr`, as many as possible\n",
    "+ `expr*?`: zero or more of `expr`, as few as possible\n",
    "+ `expr+`: one or more of `expr`, as many as possible\n",
    "+ `expr+?`: one or more of `expr`, as few as possible\n",
    "+ `expr{m}`: `m` consecutive `expr`\n",
    "+ `expr{m, n}`: `m` to `n` consecutive `expr`, as many as possible\n",
    "+ `expr{m, n}?`: `m` to `n` consecutive `expr`, as few as possible\n",
    "+ `[abc]`: `a`, `b`, or `c`\n",
    "+ `[^abc]`: not `a`, `b`, or `c`\n",
    "+ `expr(?= next)`: `expr` if followed by `next`\n",
    "+ `expr(?! next)`: `expr` if not followed by `next` \n",
    "+ `(?<= prev) expr`: `expr` if preceded by `prev`\n",
    "+ `(?<! prev) expr`: `expr` if not preceded by `prev`. "
   ]
  },
  {
   "cell_type": "markdown",
   "metadata": {},
   "source": [
    "This is why I think this chapter of our course is aptly named. You will not learn this quickly. But let's go through some examples. "
   ]
  },
  {
   "cell_type": "code",
   "execution_count": null,
   "metadata": {},
   "outputs": [],
   "source": [
    "# choice between two expressions\n",
    "source = \"Humpty Dumpty\"\n",
    "re.findall('Humpty|Dumpty', source)"
   ]
  },
  {
   "cell_type": "code",
   "execution_count": null,
   "metadata": {},
   "outputs": [],
   "source": [
    "# alternative expression\n",
    "re.findall('[HD]umpty', source)"
   ]
  },
  {
   "cell_type": "code",
   "execution_count": null,
   "metadata": {},
   "outputs": [],
   "source": [
    "# look for 'Dumpty' at the beginning of the string\n",
    "re.findall('^Dumpty', source)"
   ]
  },
  {
   "cell_type": "code",
   "execution_count": null,
   "metadata": {},
   "outputs": [],
   "source": [
    "# look for 'Dumpty' at the end of the string\n",
    "re.findall('Dumpty$', source)"
   ]
  },
  {
   "cell_type": "code",
   "execution_count": null,
   "metadata": {},
   "outputs": [],
   "source": [
    "source = 'Tweedle Dee'\n",
    "# find sequences of one or more 'e' character, as many as possible\n",
    "re.findall('e+', source)"
   ]
  },
  {
   "cell_type": "code",
   "execution_count": null,
   "metadata": {},
   "outputs": [],
   "source": [
    "# find sequences of one or more 'e' character, as few as possible\n",
    "re.findall('e+?', source)"
   ]
  },
  {
   "cell_type": "code",
   "execution_count": null,
   "metadata": {},
   "outputs": [],
   "source": [
    "# find sequences of one or two 'e' characters \n",
    "re.findall('e{1,2}', source)"
   ]
  },
  {
   "cell_type": "code",
   "execution_count": null,
   "metadata": {},
   "outputs": [],
   "source": [
    "# find sequences of two 'e' characters\n",
    "re.findall('e{2}', source)"
   ]
  },
  {
   "cell_type": "code",
   "execution_count": null,
   "metadata": {},
   "outputs": [],
   "source": [
    "# alternative\n",
    "re.findall('(ee){1}', source)"
   ]
  },
  {
   "cell_type": "markdown",
   "metadata": {},
   "source": [
    "Let's finally do the address thing again: "
   ]
  },
  {
   "cell_type": "code",
   "execution_count": null,
   "metadata": {},
   "outputs": [],
   "source": [
    "# split the address into its parts\n",
    "address = 'Blüemlisalpstrasse 10, 8006 Zürich'\n",
    "# street (alphanumeric character string at the begining of the line)\n",
    "print(re.findall('^\\w+', address))\n",
    "# city (alphanumeric character string at the end of the line)\n",
    "print(re.findall('\\w+$', address))\n",
    "# postal code (string of four digits preceded by comma and space)\n",
    "print(re.findall('(?<=,\\s)\\d{4}', address))\n",
    "# house number (string of digits, possibly followed by some letters e.g. 12A, followed by a comma)\n",
    "print(re.findall('\\d+\\D*(?=,)', address))"
   ]
  },
  {
   "cell_type": "code",
   "execution_count": null,
   "metadata": {
    "collapsed": true
   },
   "outputs": [],
   "source": []
  }
 ],
 "metadata": {
  "kernelspec": {
   "display_name": "Python 3",
   "language": "python",
   "name": "python3"
  },
  "language_info": {
   "codemirror_mode": {
    "name": "ipython",
    "version": 3
   },
   "file_extension": ".py",
   "mimetype": "text/x-python",
   "name": "python",
   "nbconvert_exporter": "python",
   "pygments_lexer": "ipython3",
   "version": "3.6.3"
  }
 },
 "nbformat": 4,
 "nbformat_minor": 1
}
