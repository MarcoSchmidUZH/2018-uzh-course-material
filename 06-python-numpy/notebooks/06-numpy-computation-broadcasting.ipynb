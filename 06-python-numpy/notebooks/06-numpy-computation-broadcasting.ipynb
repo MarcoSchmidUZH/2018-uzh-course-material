{
 "cells": [
  {
   "cell_type": "markdown",
   "metadata": {},
   "source": [
    "# More Computation on Arrays: Broadcasting\n",
    "\n",
    "So far we have seen how to use NumPy's ufuncs to operate on arrays that are of the same dimension. Another means of harnessing the vectorization thet ufuncs offer us is through *broadcasting*.\n",
    "\n",
    "Broadcasting is a set of rules that allow us to apply *binary* ufuncs, like addition, subtraction and multiplications, on arrays of different sizes. This is a powerful concept that can be incredibly useful if understood, or can lead to a total mess or copious error messages when applied without a concrete understanding of what is happening.\n",
    "\n",
    "Let's begin by importing NumPy:"
   ]
  },
  {
   "cell_type": "code",
   "execution_count": null,
   "metadata": {
    "collapsed": true
   },
   "outputs": [],
   "source": [
    "import numpy as np\n",
    "np.random.seed(1234567890)"
   ]
  },
  {
   "cell_type": "markdown",
   "metadata": {},
   "source": [
    "## The Main Idea\n",
    "\n",
    "In a previous notebook we used ufuncs to perform operations on arrays of the same size. For example"
   ]
  },
  {
   "cell_type": "code",
   "execution_count": null,
   "metadata": {},
   "outputs": [],
   "source": [
    "x = np.array([10,9,8])\n",
    "y = np.array([5, 5, 5])\n",
    "x + y"
   ]
  },
  {
   "cell_type": "markdown",
   "metadata": {},
   "source": [
    "Broadcasting allows these operations to be done on different sized arrays. For example, we can think of the array `y` as a scalar valued 5 and add it to an array as follows:"
   ]
  },
  {
   "cell_type": "code",
   "execution_count": null,
   "metadata": {},
   "outputs": [],
   "source": [
    "x + 5"
   ]
  },
  {
   "cell_type": "markdown",
   "metadata": {},
   "source": [
    "Notice how we get the exact same result. Think od what we just did as an operation that stretches the scalar value `5` into an array `[5,5,5]` and then adds the result to `x`.\n",
    "\n",
    "*Note:* This description of stretching the array is not actually what NumPy does, think of it as a mental model to think about the concept of broadcasting.\n",
    "\n",
    "Broadcasting in this way also works on all higher dimensional arrays. For example we can add a one-dimensional array to a two-dimensional one:"
   ]
  },
  {
   "cell_type": "code",
   "execution_count": null,
   "metadata": {},
   "outputs": [],
   "source": [
    "z = np.ones((3,3))\n",
    "z"
   ]
  },
  {
   "cell_type": "code",
   "execution_count": null,
   "metadata": {},
   "outputs": [],
   "source": [
    "z + x"
   ]
  },
  {
   "cell_type": "markdown",
   "metadata": {},
   "source": [
    "In this context, broadcasting has 'stretched' the array `x` across the second dimension (the rows) to match the shape of `z`."
   ]
  },
  {
   "cell_type": "markdown",
   "metadata": {},
   "source": [
    "We can also broadcast across more than one array at a time:"
   ]
  },
  {
   "cell_type": "code",
   "execution_count": null,
   "metadata": {},
   "outputs": [],
   "source": [
    "a = np.arange(3)\n",
    "b = np.arange(3)[:, np.newaxis]\n",
    "\n",
    "print(a)\n",
    "print(b)"
   ]
  },
  {
   "cell_type": "code",
   "execution_count": null,
   "metadata": {},
   "outputs": [],
   "source": [
    "a + b"
   ]
  },
  {
   "cell_type": "markdown",
   "metadata": {},
   "source": [
    "Here, we stretched both arrays to match a common shape, resulting in a two dimensional array."
   ]
  },
  {
   "cell_type": "markdown",
   "metadata": {},
   "source": [
    "## Rules of Broadcasting\n",
    "\n",
    "Now we have seen Broadcasting in action, let's consider the rules that NumPy us using to determine how it operates on two arrays:\n",
    "\n",
    "* *Rule 1*: If the two arrays differ in their number of dimensions, the shape of the one with fewer dimensions is padded with ones on its leading (left) side.\n",
    "* *Rule 2*: If the shape of the two arrays does not match in any dimension, the array with shape equal to 1 in that dimension is stretched to match the other shape.\n",
    "* *Rule 3*: If in any dimension the sizes disagree and neither is equal to 1, an error is raised.\n",
    "\n",
    "Let's look at these rules in more detail by way of some examples:"
   ]
  },
  {
   "cell_type": "markdown",
   "metadata": {},
   "source": [
    "### Example 1"
   ]
  },
  {
   "cell_type": "code",
   "execution_count": null,
   "metadata": {},
   "outputs": [],
   "source": [
    "matrix = np.ones((2, 3))\n",
    "array = np.arange(3)\n",
    "\n",
    "print(matrix, array)"
   ]
  },
  {
   "cell_type": "markdown",
   "metadata": {},
   "source": [
    "Consider an operation on `matrix` and `array`. The shape of each is:\n",
    "\n",
    "- ``matrix.shape = (2, 3)``\n",
    "- ``array.shape = (3,)``\n",
    "\n",
    "Rule 1 tells us that ``array`` has fewer dimensions, so we pad it on the left with ones:\n",
    "\n",
    "- ``matrix.shape -> (2, 3)``\n",
    "- ``array.shape -> (1, 3)``\n",
    "\n",
    "Rule 2, tells us the first dimension disagrees, so we stretch itnsion to match:\n",
    "\n",
    "- ``matrix.shape -> (2, 3)``\n",
    "- ``array.shape -> (2, 3)``\n",
    "\n",
    "Now the shapes match, and we see the output of a ufunc operation will be ``(2, 3)``:"
   ]
  },
  {
   "cell_type": "code",
   "execution_count": null,
   "metadata": {},
   "outputs": [],
   "source": [
    "matrix + array"
   ]
  },
  {
   "cell_type": "markdown",
   "metadata": {},
   "source": [
    "### Example 2\n",
    "\n",
    "Consider again the case where both arrays need to be broadcast:"
   ]
  },
  {
   "cell_type": "code",
   "execution_count": null,
   "metadata": {
    "collapsed": true
   },
   "outputs": [],
   "source": [
    "array_1 = np.arange(3).reshape((3, 1))\n",
    "array_2 = np.arange(3)"
   ]
  },
  {
   "cell_type": "markdown",
   "metadata": {
    "collapsed": true
   },
   "source": [
    "Let's look at what broadcasting is doing:\n",
    "\n",
    "The shape of our arrays is:\n",
    "\n",
    "- ``array_1.shape = (3, 1)``\n",
    "- ``array_2.shape = (3,)``\n",
    "\n",
    "Rule 1 pads ``array_2`` with ones:\n",
    "\n",
    "- ``array_1.shape -> (3, 1)``\n",
    "- ``array_2.shape -> (1, 3)``\n",
    "\n",
    "Rule 2  upgrades dimension of size 1 to match the corresponding size of the other array:\n",
    "\n",
    "- ``array_1.shape -> (3, 3)``\n",
    "- ``array_2.shape -> (3, 3)``\n",
    "\n",
    "Now the shapes match, and an operation can be performed. The result is:"
   ]
  },
  {
   "cell_type": "code",
   "execution_count": null,
   "metadata": {},
   "outputs": [],
   "source": [
    "array_1 + array_2"
   ]
  },
  {
   "cell_type": "markdown",
   "metadata": {},
   "source": [
    "### Example 3\n",
    "\n",
    "Finally, here's an array where the shapes are not compatible:"
   ]
  },
  {
   "cell_type": "code",
   "execution_count": null,
   "metadata": {
    "collapsed": true
   },
   "outputs": [],
   "source": [
    "matrix = np.ones((3, 2))\n",
    "array  = np.arange(3)"
   ]
  },
  {
   "cell_type": "markdown",
   "metadata": {
    "collapsed": true
   },
   "source": [
    "The shape of the arrays are\n",
    "\n",
    "- ``matrix.shape = (3, 2)``\n",
    "- ``array.shape = (3,)``\n",
    "\n",
    "Rule 1 pads the shape of ``array`` with ones:\n",
    "\n",
    "- ``matrix.shape -> (3, 2)``\n",
    "- ``array.shape -> (1, 3)``\n",
    "\n",
    "Rule 2 stretches the first dimension of ``array`` to match that of ``matrix``:\n",
    "\n",
    "- ``matrix.shape -> (3, 2)``\n",
    "- ``array.shape -> (3, 3)``\n",
    "\n",
    "From Rule 3, the shapes do not match, so a ufunc can not be performed between these two arrays:"
   ]
  },
  {
   "cell_type": "code",
   "execution_count": null,
   "metadata": {},
   "outputs": [],
   "source": [
    "matrix + array"
   ]
  },
  {
   "cell_type": "markdown",
   "metadata": {},
   "source": [
    "## Challenge\n",
    "\n",
    "1. In `Example 3` we saw that `matrix` and `array` where not compatible. What would happen if we padded `array`'s shape on the right rather than the left?\n",
    "    * Work throught the broadcasting logic, and if the result would be compatible compute `np.logaddexp(a, b)`. Note that this function computes `log(exp(a) + exp(b))`\n",
    "\n",
    "2. Take the array `data = np.arange(12).reshape(2,6)` and use the principles of broadcasting to demean the columns.\n",
    "\n",
    "3. Again take `data`, and this time demean along the column dimension\n",
    "\n",
    "4. Convert `data` to have zero mean and unit standard deviation along the column dimension"
   ]
  },
  {
   "cell_type": "markdown",
   "metadata": {},
   "source": [
    "### Solution"
   ]
  },
  {
   "cell_type": "code",
   "execution_count": null,
   "metadata": {},
   "outputs": [],
   "source": [
    "a[:, np.newaxis].shape\n"
   ]
  },
  {
   "cell_type": "code",
   "execution_count": null,
   "metadata": {},
   "outputs": [],
   "source": [
    "M + a[:, np.newaxis]"
   ]
  },
  {
   "cell_type": "code",
   "execution_count": null,
   "metadata": {},
   "outputs": [],
   "source": [
    "np.logaddexp(M, a[:, np.newaxis])"
   ]
  },
  {
   "cell_type": "code",
   "execution_count": null,
   "metadata": {
    "collapsed": true
   },
   "outputs": [],
   "source": [
    "# broadcasting\n",
    "xs = np.arange(12).reshape(2,6)\n",
    "print(xs, '\\n')\n",
    "print(xs * 10, '\\n')\n",
    "\n",
    "# broadcasting just works when doing column-wise operations\n",
    "col_means = xs.mean(axis=0)\n",
    "print(col_means, '\\n')\n",
    "print(xs + col_means, '\\n')\n",
    "\n",
    "# but needs a little more work for row-wise operations\n",
    "row_means = xs.mean(axis=1)[:, np.newaxis]\n",
    "print(row_means)\n",
    "print(xs + row_means)\n",
    "\n",
    "# convert matrix to have zero mean and unit standard deviation using col summary statistics\n",
    "print((xs - xs.mean(axis=0))/xs.std(axis=0))"
   ]
  },
  {
   "cell_type": "markdown",
   "metadata": {
    "collapsed": true
   },
   "source": [
    "## Challenge\n",
    "\n",
    "Suppose we have two firms in market operating under Cournot compeition.\n",
    "Let $q1$ and $q2$ denote the quantities produced by each firm respectively, and $Q=q1+q2$.\n",
    "\n",
    "Market demand can be either linear:\n",
    "\n",
    "$$\n",
    "P(Q) = a \\times Q + b\n",
    "$$\n",
    "\n",
    "or be isoelastic:\n",
    "\n",
    "$$\n",
    "P(Q) = k Q^ {-\\epsilon}\n",
    "$$\n",
    "\n",
    "Assume that marginal cost of production is $c$ for both firms, and they can only produce integer valued outputs in the range $q_i \\in [0,10]$.\n",
    "\n",
    "1. Write a function that returns the market price for the linear demand function for all possible market quantities. Return the price function as a matrix that can be indexed so that price[5,5] yields the market price when both firms produce 5 units of output\n",
    "\n",
    "2. Repeat 1. for the isoelastic case.\n",
    "\n",
    "3. Write a function that returns the profit for firm 1, for any combination of inputs for the either demand model. \n",
    "    1. What is his profit when they both produce 5 units of output, when a = -3, b = 30 and c=1?\n",
    "    2. What is his profit when they both produce 5 units of output, when k = -1, $\\epsilon$ = -3 and c=1?"
   ]
  },
  {
   "cell_type": "code",
   "execution_count": null,
   "metadata": {
    "collapsed": true
   },
   "outputs": [],
   "source": []
  }
 ],
 "metadata": {
  "anaconda-cloud": {},
  "kernelspec": {
   "display_name": "Python 3",
   "language": "python",
   "name": "python3"
  },
  "language_info": {
   "codemirror_mode": {
    "name": "ipython",
    "version": 3
   },
   "file_extension": ".py",
   "mimetype": "text/x-python",
   "name": "python",
   "nbconvert_exporter": "python",
   "pygments_lexer": "ipython3",
   "version": "3.6.3"
  }
 },
 "nbformat": 4,
 "nbformat_minor": 2
}
